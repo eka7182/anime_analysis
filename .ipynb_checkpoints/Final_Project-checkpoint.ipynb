{
 "cells": [
  {
   "cell_type": "code",
   "execution_count": 183,
   "id": "d210f513",
   "metadata": {},
   "outputs": [],
   "source": [
    "import pandas as pd\n",
    "import numpy as np\n",
    "import matplotlib.pyplot as plt\n",
    "import seaborn as sns\n",
    "from datetime import date"
   ]
  },
  {
   "cell_type": "code",
   "execution_count": 184,
   "id": "16351104",
   "metadata": {},
   "outputs": [
    {
     "data": {
      "text/plain": [
       "(10014, 13)"
      ]
     },
     "execution_count": 184,
     "metadata": {},
     "output_type": "execute_result"
    }
   ],
   "source": [
    "df = pd.read_csv('Top_10000_Movies.csv', engine='python')\n",
    "df.shape"
   ]
  },
  {
   "cell_type": "code",
   "execution_count": 185,
   "id": "9317c949",
   "metadata": {},
   "outputs": [],
   "source": [
    "# df = df[df['original_language']=='en'] "
   ]
  },
  {
   "cell_type": "code",
   "execution_count": 186,
   "id": "6cc21b0e",
   "metadata": {},
   "outputs": [
    {
     "data": {
      "text/html": [
       "<div>\n",
       "<style scoped>\n",
       "    .dataframe tbody tr th:only-of-type {\n",
       "        vertical-align: middle;\n",
       "    }\n",
       "\n",
       "    .dataframe tbody tr th {\n",
       "        vertical-align: top;\n",
       "    }\n",
       "\n",
       "    .dataframe thead th {\n",
       "        text-align: right;\n",
       "    }\n",
       "</style>\n",
       "<table border=\"1\" class=\"dataframe\">\n",
       "  <thead>\n",
       "    <tr style=\"text-align: right;\">\n",
       "      <th></th>\n",
       "      <th>Unnamed: 0</th>\n",
       "      <th>id</th>\n",
       "      <th>original_language</th>\n",
       "      <th>original_title</th>\n",
       "      <th>popularity</th>\n",
       "      <th>release_date</th>\n",
       "      <th>vote_average</th>\n",
       "      <th>vote_count</th>\n",
       "      <th>genre</th>\n",
       "      <th>overview</th>\n",
       "      <th>revenue</th>\n",
       "      <th>runtime</th>\n",
       "      <th>tagline</th>\n",
       "    </tr>\n",
       "  </thead>\n",
       "  <tbody>\n",
       "    <tr>\n",
       "      <th>0</th>\n",
       "      <td>0</td>\n",
       "      <td>580489.0</td>\n",
       "      <td>en</td>\n",
       "      <td>Venom: Let There Be Carnage</td>\n",
       "      <td>5401.308</td>\n",
       "      <td>2021-09-30</td>\n",
       "      <td>6.8</td>\n",
       "      <td>1736.0</td>\n",
       "      <td>['Science Fiction', 'Action', 'Adventure']</td>\n",
       "      <td>After finding a host body in investigative rep...</td>\n",
       "      <td>424000000.0</td>\n",
       "      <td>97.0</td>\n",
       "      <td>NaN</td>\n",
       "    </tr>\n",
       "    <tr>\n",
       "      <th>1</th>\n",
       "      <td>1</td>\n",
       "      <td>524434.0</td>\n",
       "      <td>en</td>\n",
       "      <td>Eternals</td>\n",
       "      <td>3365.535</td>\n",
       "      <td>2021-11-03</td>\n",
       "      <td>7.1</td>\n",
       "      <td>622.0</td>\n",
       "      <td>['Action', 'Adventure', 'Science Fiction', 'Fa...</td>\n",
       "      <td>The Eternals are a team of ancient aliens who ...</td>\n",
       "      <td>165000000.0</td>\n",
       "      <td>157.0</td>\n",
       "      <td>In the beginning...</td>\n",
       "    </tr>\n",
       "    <tr>\n",
       "      <th>2</th>\n",
       "      <td>2</td>\n",
       "      <td>438631.0</td>\n",
       "      <td>en</td>\n",
       "      <td>Dune</td>\n",
       "      <td>2911.423</td>\n",
       "      <td>2021-09-15</td>\n",
       "      <td>8.0</td>\n",
       "      <td>3632.0</td>\n",
       "      <td>['Action', 'Adventure', 'Science Fiction']</td>\n",
       "      <td>Paul Atreides, a brilliant and gifted young ma...</td>\n",
       "      <td>331116356.0</td>\n",
       "      <td>155.0</td>\n",
       "      <td>Beyond fear, destiny awaits.</td>\n",
       "    </tr>\n",
       "    <tr>\n",
       "      <th>3</th>\n",
       "      <td>3</td>\n",
       "      <td>796499.0</td>\n",
       "      <td>en</td>\n",
       "      <td>Army of Thieves</td>\n",
       "      <td>2552.437</td>\n",
       "      <td>2021-10-27</td>\n",
       "      <td>6.9</td>\n",
       "      <td>555.0</td>\n",
       "      <td>['Action', 'Crime', 'Thriller']</td>\n",
       "      <td>A mysterious woman recruits bank teller Ludwig...</td>\n",
       "      <td>0.0</td>\n",
       "      <td>127.0</td>\n",
       "      <td>Before Vegas, one locksmith became a legend.</td>\n",
       "    </tr>\n",
       "    <tr>\n",
       "      <th>4</th>\n",
       "      <td>4</td>\n",
       "      <td>550988.0</td>\n",
       "      <td>en</td>\n",
       "      <td>Free Guy</td>\n",
       "      <td>1850.470</td>\n",
       "      <td>2021-08-11</td>\n",
       "      <td>7.8</td>\n",
       "      <td>3493.0</td>\n",
       "      <td>['Comedy', 'Action', 'Adventure', 'Science Fic...</td>\n",
       "      <td>A bank teller called Guy realizes he is a back...</td>\n",
       "      <td>331096766.0</td>\n",
       "      <td>115.0</td>\n",
       "      <td>Life's too short to be a background character.</td>\n",
       "    </tr>\n",
       "  </tbody>\n",
       "</table>\n",
       "</div>"
      ],
      "text/plain": [
       "  Unnamed: 0        id original_language               original_title  \\\n",
       "0          0  580489.0                en  Venom: Let There Be Carnage   \n",
       "1          1  524434.0                en                     Eternals   \n",
       "2          2  438631.0                en                         Dune   \n",
       "3          3  796499.0                en              Army of Thieves   \n",
       "4          4  550988.0                en                     Free Guy   \n",
       "\n",
       "   popularity release_date  vote_average  vote_count  \\\n",
       "0    5401.308   2021-09-30           6.8      1736.0   \n",
       "1    3365.535   2021-11-03           7.1       622.0   \n",
       "2    2911.423   2021-09-15           8.0      3632.0   \n",
       "3    2552.437   2021-10-27           6.9       555.0   \n",
       "4    1850.470   2021-08-11           7.8      3493.0   \n",
       "\n",
       "                                               genre  \\\n",
       "0         ['Science Fiction', 'Action', 'Adventure']   \n",
       "1  ['Action', 'Adventure', 'Science Fiction', 'Fa...   \n",
       "2         ['Action', 'Adventure', 'Science Fiction']   \n",
       "3                    ['Action', 'Crime', 'Thriller']   \n",
       "4  ['Comedy', 'Action', 'Adventure', 'Science Fic...   \n",
       "\n",
       "                                            overview      revenue  runtime  \\\n",
       "0  After finding a host body in investigative rep...  424000000.0     97.0   \n",
       "1  The Eternals are a team of ancient aliens who ...  165000000.0    157.0   \n",
       "2  Paul Atreides, a brilliant and gifted young ma...  331116356.0    155.0   \n",
       "3  A mysterious woman recruits bank teller Ludwig...          0.0    127.0   \n",
       "4  A bank teller called Guy realizes he is a back...  331096766.0    115.0   \n",
       "\n",
       "                                          tagline  \n",
       "0                                             NaN  \n",
       "1                             In the beginning...  \n",
       "2                    Beyond fear, destiny awaits.  \n",
       "3    Before Vegas, one locksmith became a legend.  \n",
       "4  Life's too short to be a background character.  "
      ]
     },
     "execution_count": 186,
     "metadata": {},
     "output_type": "execute_result"
    }
   ],
   "source": [
    "df.head()"
   ]
  },
  {
   "cell_type": "code",
   "execution_count": 187,
   "id": "d76563b5",
   "metadata": {},
   "outputs": [
    {
     "name": "stdout",
     "output_type": "stream",
     "text": [
      "<class 'pandas.core.frame.DataFrame'>\n",
      "RangeIndex: 10014 entries, 0 to 10013\n",
      "Data columns (total 13 columns):\n",
      " #   Column             Non-Null Count  Dtype  \n",
      "---  ------             --------------  -----  \n",
      " 0   Unnamed: 0         10014 non-null  object \n",
      " 1   id                 10002 non-null  float64\n",
      " 2   original_language  10002 non-null  object \n",
      " 3   original_title     10001 non-null  object \n",
      " 4   popularity         10000 non-null  float64\n",
      " 5   release_date       9962 non-null   object \n",
      " 6   vote_average       10000 non-null  float64\n",
      " 7   vote_count         10000 non-null  float64\n",
      " 8   genre              10000 non-null  object \n",
      " 9   overview           9900 non-null   object \n",
      " 10  revenue            9998 non-null   float64\n",
      " 11  runtime            9989 non-null   float64\n",
      " 12  tagline            7079 non-null   object \n",
      "dtypes: float64(6), object(7)\n",
      "memory usage: 1017.2+ KB\n"
     ]
    }
   ],
   "source": [
    "df.info()"
   ]
  },
  {
   "cell_type": "code",
   "execution_count": 188,
   "id": "790d4a3b",
   "metadata": {},
   "outputs": [],
   "source": [
    "df = df.drop(columns = 'Unnamed: 0')"
   ]
  },
  {
   "cell_type": "code",
   "execution_count": 189,
   "id": "3437ee22",
   "metadata": {},
   "outputs": [
    {
     "name": "stdout",
     "output_type": "stream",
     "text": [
      "id                   float64\n",
      "original_language     object\n",
      "original_title        object\n",
      "popularity           float64\n",
      "release_date          object\n",
      "vote_average         float64\n",
      "vote_count           float64\n",
      "genre                 object\n",
      "overview              object\n",
      "revenue              float64\n",
      "runtime              float64\n",
      "tagline               object\n",
      "dtype: object\n"
     ]
    }
   ],
   "source": [
    "print(df.dtypes)"
   ]
  },
  {
   "cell_type": "code",
   "execution_count": 190,
   "id": "d2c45279",
   "metadata": {},
   "outputs": [
    {
     "data": {
      "text/plain": [
       "id                     12\n",
       "original_language      12\n",
       "original_title         13\n",
       "popularity             14\n",
       "release_date           52\n",
       "vote_average           14\n",
       "vote_count             14\n",
       "genre                  14\n",
       "overview              114\n",
       "revenue                16\n",
       "runtime                25\n",
       "tagline              2935\n",
       "dtype: int64"
      ]
     },
     "execution_count": 190,
     "metadata": {},
     "output_type": "execute_result"
    }
   ],
   "source": [
    "null_columns = df.columns[df.isnull().any()] \n",
    "df[null_columns].isnull().sum()"
   ]
  },
  {
   "cell_type": "code",
   "execution_count": 191,
   "id": "cab70fad",
   "metadata": {},
   "outputs": [],
   "source": [
    "df['tagline'] = df['tagline'].fillna(value='Unknown')"
   ]
  },
  {
   "cell_type": "code",
   "execution_count": 192,
   "id": "389461db",
   "metadata": {},
   "outputs": [
    {
     "data": {
      "text/plain": [
       "id                    12\n",
       "original_language     12\n",
       "original_title        13\n",
       "popularity            14\n",
       "release_date          52\n",
       "vote_average          14\n",
       "vote_count            14\n",
       "genre                 14\n",
       "overview             114\n",
       "revenue               16\n",
       "runtime               25\n",
       "dtype: int64"
      ]
     },
     "execution_count": 192,
     "metadata": {},
     "output_type": "execute_result"
    }
   ],
   "source": [
    "null_columns = df.columns[df.isnull().any()] \n",
    "df[null_columns].isnull().sum()"
   ]
  },
  {
   "cell_type": "code",
   "execution_count": 193,
   "id": "ade626e1",
   "metadata": {},
   "outputs": [
    {
     "data": {
      "text/plain": [
       "(10014, 12)"
      ]
     },
     "execution_count": 193,
     "metadata": {},
     "output_type": "execute_result"
    }
   ],
   "source": [
    "df.shape"
   ]
  },
  {
   "cell_type": "code",
   "execution_count": 194,
   "id": "bf61469d",
   "metadata": {},
   "outputs": [],
   "source": [
    "df = df.dropna()"
   ]
  },
  {
   "cell_type": "code",
   "execution_count": 195,
   "id": "5a754f03",
   "metadata": {},
   "outputs": [
    {
     "data": {
      "text/plain": [
       "(9864, 12)"
      ]
     },
     "execution_count": 195,
     "metadata": {},
     "output_type": "execute_result"
    }
   ],
   "source": [
    "df.shape"
   ]
  },
  {
   "cell_type": "code",
   "execution_count": null,
   "id": "950d5b1a",
   "metadata": {},
   "outputs": [],
   "source": []
  },
  {
   "cell_type": "code",
   "execution_count": 196,
   "id": "8e38a87d",
   "metadata": {},
   "outputs": [],
   "source": [
    "count_languages = df.groupby('original_language')[['id']].agg('count').rename(columns = {'id' : 'count'})\n",
    "count_languages_sorted = gr.sort_values(by = 'count', ascending = False).iloc[:10]\n",
    "top10 = count_languages_sorted.iloc[:10]"
   ]
  },
  {
   "cell_type": "code",
   "execution_count": 197,
   "id": "0070a6c4",
   "metadata": {},
   "outputs": [
    {
     "data": {
      "text/html": [
       "<div>\n",
       "<style scoped>\n",
       "    .dataframe tbody tr th:only-of-type {\n",
       "        vertical-align: middle;\n",
       "    }\n",
       "\n",
       "    .dataframe tbody tr th {\n",
       "        vertical-align: top;\n",
       "    }\n",
       "\n",
       "    .dataframe thead th {\n",
       "        text-align: right;\n",
       "    }\n",
       "</style>\n",
       "<table border=\"1\" class=\"dataframe\">\n",
       "  <thead>\n",
       "    <tr style=\"text-align: right;\">\n",
       "      <th></th>\n",
       "      <th>count</th>\n",
       "    </tr>\n",
       "    <tr>\n",
       "      <th>original_language</th>\n",
       "      <th></th>\n",
       "    </tr>\n",
       "  </thead>\n",
       "  <tbody>\n",
       "    <tr>\n",
       "      <th>en</th>\n",
       "      <td>7798</td>\n",
       "    </tr>\n",
       "    <tr>\n",
       "      <th>ja</th>\n",
       "      <td>609</td>\n",
       "    </tr>\n",
       "    <tr>\n",
       "      <th>es</th>\n",
       "      <td>417</td>\n",
       "    </tr>\n",
       "    <tr>\n",
       "      <th>fr</th>\n",
       "      <td>293</td>\n",
       "    </tr>\n",
       "    <tr>\n",
       "      <th>ko</th>\n",
       "      <td>140</td>\n",
       "    </tr>\n",
       "    <tr>\n",
       "      <th>it</th>\n",
       "      <td>104</td>\n",
       "    </tr>\n",
       "    <tr>\n",
       "      <th>zh</th>\n",
       "      <td>103</td>\n",
       "    </tr>\n",
       "    <tr>\n",
       "      <th>cn</th>\n",
       "      <td>79</td>\n",
       "    </tr>\n",
       "    <tr>\n",
       "      <th>de</th>\n",
       "      <td>78</td>\n",
       "    </tr>\n",
       "    <tr>\n",
       "      <th>ru</th>\n",
       "      <td>69</td>\n",
       "    </tr>\n",
       "  </tbody>\n",
       "</table>\n",
       "</div>"
      ],
      "text/plain": [
       "                   count\n",
       "original_language       \n",
       "en                  7798\n",
       "ja                   609\n",
       "es                   417\n",
       "fr                   293\n",
       "ko                   140\n",
       "it                   104\n",
       "zh                   103\n",
       "cn                    79\n",
       "de                    78\n",
       "ru                    69"
      ]
     },
     "execution_count": 197,
     "metadata": {},
     "output_type": "execute_result"
    }
   ],
   "source": [
    "top10"
   ]
  },
  {
   "cell_type": "code",
   "execution_count": 230,
   "id": "c79cf6ac",
   "metadata": {},
   "outputs": [
    {
     "data": {
      "image/png": "[encoded data removed]",
      "text/plain": [
       "<Figure size 864x576 with 1 Axes>"
      ]
     },
     "metadata": {
      "needs_background": "light"
     },
     "output_type": "display_data"
    }
   ],
   "source": [
    "fig, ax = plt.subplots(figsize = (12, 8))\n",
    "ax.bar(top10.index, top10['count'])\n",
    "ax.set_ylabel('Number of Films for each languages')\n",
    "#rotate the label's text\n",
    "plt.show()"
   ]
  },
  {
   "cell_type": "code",
   "execution_count": 199,
   "id": "5d4e3eed",
   "metadata": {},
   "outputs": [],
   "source": [
    "df['release_date'] =  pd.to_datetime(df['release_date'])"
   ]
  },
  {
   "cell_type": "code",
   "execution_count": 245,
   "id": "f63a9bb6",
   "metadata": {},
   "outputs": [
    {
     "data": {
      "text/plain": [
       "release_date\n",
       "2021    812\n",
       "2019    587\n",
       "2017    577\n",
       "2018    573\n",
       "2016    528\n",
       "2020    521\n",
       "2015    441\n",
       "2014    420\n",
       "2013    379\n",
       "2011    317\n",
       "2009    296\n",
       "2012    290\n",
       "2010    280\n",
       "2008    246\n",
       "2007    243\n",
       "2006    242\n",
       "2005    213\n",
       "2004    202\n",
       "2003    165\n",
       "2001    163\n",
       "2002    159\n",
       "2000    141\n",
       "Name: id, dtype: int64"
      ]
     },
     "execution_count": 245,
     "metadata": {},
     "output_type": "execute_result"
    }
   ],
   "source": [
    "df.groupby(df['release_date'].dt.year)['id'].count().sort_values(ascending = False).iloc[:22]"
   ]
  },
  {
   "cell_type": "code",
   "execution_count": 218,
   "id": "e1ba7f17",
   "metadata": {},
   "outputs": [
    {
     "data": {
      "text/html": [
       "<div>\n",
       "<style scoped>\n",
       "    .dataframe tbody tr th:only-of-type {\n",
       "        vertical-align: middle;\n",
       "    }\n",
       "\n",
       "    .dataframe tbody tr th {\n",
       "        vertical-align: top;\n",
       "    }\n",
       "\n",
       "    .dataframe thead th {\n",
       "        text-align: right;\n",
       "    }\n",
       "</style>\n",
       "<table border=\"1\" class=\"dataframe\">\n",
       "  <thead>\n",
       "    <tr style=\"text-align: right;\">\n",
       "      <th></th>\n",
       "      <th>release_date</th>\n",
       "      <th>id</th>\n",
       "    </tr>\n",
       "  </thead>\n",
       "  <tbody>\n",
       "    <tr>\n",
       "      <th>0</th>\n",
       "      <td>1902</td>\n",
       "      <td>1</td>\n",
       "    </tr>\n",
       "    <tr>\n",
       "      <th>1</th>\n",
       "      <td>1920</td>\n",
       "      <td>1</td>\n",
       "    </tr>\n",
       "    <tr>\n",
       "      <th>2</th>\n",
       "      <td>1922</td>\n",
       "      <td>2</td>\n",
       "    </tr>\n",
       "    <tr>\n",
       "      <th>3</th>\n",
       "      <td>1923</td>\n",
       "      <td>1</td>\n",
       "    </tr>\n",
       "    <tr>\n",
       "      <th>4</th>\n",
       "      <td>1924</td>\n",
       "      <td>1</td>\n",
       "    </tr>\n",
       "    <tr>\n",
       "      <th>...</th>\n",
       "      <td>...</td>\n",
       "      <td>...</td>\n",
       "    </tr>\n",
       "    <tr>\n",
       "      <th>96</th>\n",
       "      <td>2019</td>\n",
       "      <td>587</td>\n",
       "    </tr>\n",
       "    <tr>\n",
       "      <th>97</th>\n",
       "      <td>2020</td>\n",
       "      <td>521</td>\n",
       "    </tr>\n",
       "    <tr>\n",
       "      <th>98</th>\n",
       "      <td>2021</td>\n",
       "      <td>812</td>\n",
       "    </tr>\n",
       "    <tr>\n",
       "      <th>99</th>\n",
       "      <td>2022</td>\n",
       "      <td>30</td>\n",
       "    </tr>\n",
       "    <tr>\n",
       "      <th>100</th>\n",
       "      <td>2023</td>\n",
       "      <td>7</td>\n",
       "    </tr>\n",
       "  </tbody>\n",
       "</table>\n",
       "<p>101 rows × 2 columns</p>\n",
       "</div>"
      ],
      "text/plain": [
       "     release_date   id\n",
       "0            1902    1\n",
       "1            1920    1\n",
       "2            1922    2\n",
       "3            1923    1\n",
       "4            1924    1\n",
       "..            ...  ...\n",
       "96           2019  587\n",
       "97           2020  521\n",
       "98           2021  812\n",
       "99           2022   30\n",
       "100          2023    7\n",
       "\n",
       "[101 rows x 2 columns]"
      ]
     },
     "execution_count": 218,
     "metadata": {},
     "output_type": "execute_result"
    }
   ],
   "source": [
    "count_date = df.groupby(df['release_date'].dt.year)['id'].count()\n",
    "count_date = count_date.reset_index()\n",
    "count_date"
   ]
  },
  {
   "cell_type": "code",
   "execution_count": 233,
   "id": "808f3bdd",
   "metadata": {},
   "outputs": [
    {
     "data": {
      "image/png": "[encoded data removed]",
      "text/plain": [
       "<Figure size 864x576 with 1 Axes>"
      ]
     },
     "metadata": {
      "needs_background": "light"
     },
     "output_type": "display_data"
    }
   ],
   "source": [
    "fig, ax = plt.subplots(figsize = (12,8))\n",
    "ax.plot(count_date['release_date'], count_date['id'], linestyle='-', color = 'r')\n",
    "ax.set_xlabel('Year')\n",
    "ax.set_ylabel('Count of films in each year')\n",
    "ax.set_title('The year of the most popular films')\n",
    "plt.show()"
   ]
  },
  {
   "cell_type": "code",
   "execution_count": 246,
   "id": "0f5befd0",
   "metadata": {},
   "outputs": [
    {
     "data": {
      "text/html": [
       "<div>\n",
       "<style scoped>\n",
       "    .dataframe tbody tr th:only-of-type {\n",
       "        vertical-align: middle;\n",
       "    }\n",
       "\n",
       "    .dataframe tbody tr th {\n",
       "        vertical-align: top;\n",
       "    }\n",
       "\n",
       "    .dataframe thead th {\n",
       "        text-align: right;\n",
       "    }\n",
       "</style>\n",
       "<table border=\"1\" class=\"dataframe\">\n",
       "  <thead>\n",
       "    <tr style=\"text-align: right;\">\n",
       "      <th></th>\n",
       "      <th>id</th>\n",
       "      <th>original_language</th>\n",
       "      <th>original_title</th>\n",
       "      <th>popularity</th>\n",
       "      <th>release_date</th>\n",
       "      <th>vote_average</th>\n",
       "      <th>vote_count</th>\n",
       "      <th>genre</th>\n",
       "      <th>overview</th>\n",
       "      <th>revenue</th>\n",
       "      <th>runtime</th>\n",
       "      <th>tagline</th>\n",
       "    </tr>\n",
       "  </thead>\n",
       "  <tbody>\n",
       "    <tr>\n",
       "      <th>0</th>\n",
       "      <td>580489.0</td>\n",
       "      <td>en</td>\n",
       "      <td>Venom: Let There Be Carnage</td>\n",
       "      <td>5401.308</td>\n",
       "      <td>2021-09-30</td>\n",
       "      <td>6.8</td>\n",
       "      <td>1736.0</td>\n",
       "      <td>['Science Fiction', 'Action', 'Adventure']</td>\n",
       "      <td>After finding a host body in investigative rep...</td>\n",
       "      <td>424000000.0</td>\n",
       "      <td>97.0</td>\n",
       "      <td>Unknown</td>\n",
       "    </tr>\n",
       "    <tr>\n",
       "      <th>1</th>\n",
       "      <td>524434.0</td>\n",
       "      <td>en</td>\n",
       "      <td>Eternals</td>\n",
       "      <td>3365.535</td>\n",
       "      <td>2021-11-03</td>\n",
       "      <td>7.1</td>\n",
       "      <td>622.0</td>\n",
       "      <td>['Action', 'Adventure', 'Science Fiction', 'Fa...</td>\n",
       "      <td>The Eternals are a team of ancient aliens who ...</td>\n",
       "      <td>165000000.0</td>\n",
       "      <td>157.0</td>\n",
       "      <td>In the beginning...</td>\n",
       "    </tr>\n",
       "    <tr>\n",
       "      <th>2</th>\n",
       "      <td>438631.0</td>\n",
       "      <td>en</td>\n",
       "      <td>Dune</td>\n",
       "      <td>2911.423</td>\n",
       "      <td>2021-09-15</td>\n",
       "      <td>8.0</td>\n",
       "      <td>3632.0</td>\n",
       "      <td>['Action', 'Adventure', 'Science Fiction']</td>\n",
       "      <td>Paul Atreides, a brilliant and gifted young ma...</td>\n",
       "      <td>331116356.0</td>\n",
       "      <td>155.0</td>\n",
       "      <td>Beyond fear, destiny awaits.</td>\n",
       "    </tr>\n",
       "    <tr>\n",
       "      <th>3</th>\n",
       "      <td>796499.0</td>\n",
       "      <td>en</td>\n",
       "      <td>Army of Thieves</td>\n",
       "      <td>2552.437</td>\n",
       "      <td>2021-10-27</td>\n",
       "      <td>6.9</td>\n",
       "      <td>555.0</td>\n",
       "      <td>['Action', 'Crime', 'Thriller']</td>\n",
       "      <td>A mysterious woman recruits bank teller Ludwig...</td>\n",
       "      <td>0.0</td>\n",
       "      <td>127.0</td>\n",
       "      <td>Before Vegas, one locksmith became a legend.</td>\n",
       "    </tr>\n",
       "    <tr>\n",
       "      <th>4</th>\n",
       "      <td>550988.0</td>\n",
       "      <td>en</td>\n",
       "      <td>Free Guy</td>\n",
       "      <td>1850.470</td>\n",
       "      <td>2021-08-11</td>\n",
       "      <td>7.8</td>\n",
       "      <td>3493.0</td>\n",
       "      <td>['Comedy', 'Action', 'Adventure', 'Science Fic...</td>\n",
       "      <td>A bank teller called Guy realizes he is a back...</td>\n",
       "      <td>331096766.0</td>\n",
       "      <td>115.0</td>\n",
       "      <td>Life's too short to be a background character.</td>\n",
       "    </tr>\n",
       "  </tbody>\n",
       "</table>\n",
       "</div>"
      ],
      "text/plain": [
       "         id original_language               original_title  popularity  \\\n",
       "0  580489.0                en  Venom: Let There Be Carnage    5401.308   \n",
       "1  524434.0                en                     Eternals    3365.535   \n",
       "2  438631.0                en                         Dune    2911.423   \n",
       "3  796499.0                en              Army of Thieves    2552.437   \n",
       "4  550988.0                en                     Free Guy    1850.470   \n",
       "\n",
       "  release_date  vote_average  vote_count  \\\n",
       "0   2021-09-30           6.8      1736.0   \n",
       "1   2021-11-03           7.1       622.0   \n",
       "2   2021-09-15           8.0      3632.0   \n",
       "3   2021-10-27           6.9       555.0   \n",
       "4   2021-08-11           7.8      3493.0   \n",
       "\n",
       "                                               genre  \\\n",
       "0         ['Science Fiction', 'Action', 'Adventure']   \n",
       "1  ['Action', 'Adventure', 'Science Fiction', 'Fa...   \n",
       "2         ['Action', 'Adventure', 'Science Fiction']   \n",
       "3                    ['Action', 'Crime', 'Thriller']   \n",
       "4  ['Comedy', 'Action', 'Adventure', 'Science Fic...   \n",
       "\n",
       "                                            overview      revenue  runtime  \\\n",
       "0  After finding a host body in investigative rep...  424000000.0     97.0   \n",
       "1  The Eternals are a team of ancient aliens who ...  165000000.0    157.0   \n",
       "2  Paul Atreides, a brilliant and gifted young ma...  331116356.0    155.0   \n",
       "3  A mysterious woman recruits bank teller Ludwig...          0.0    127.0   \n",
       "4  A bank teller called Guy realizes he is a back...  331096766.0    115.0   \n",
       "\n",
       "                                          tagline  \n",
       "0                                         Unknown  \n",
       "1                             In the beginning...  \n",
       "2                    Beyond fear, destiny awaits.  \n",
       "3    Before Vegas, one locksmith became a legend.  \n",
       "4  Life's too short to be a background character.  "
      ]
     },
     "execution_count": 246,
     "metadata": {},
     "output_type": "execute_result"
    }
   ],
   "source": [
    "df.head()"
   ]
  },
  {
   "cell_type": "code",
   "execution_count": 271,
   "id": "2f8b99a3",
   "metadata": {},
   "outputs": [],
   "source": [
    "revenue_films = df[['original_title','revenue']].sort_values(['revenue'], ascending = False).iloc[:10]"
   ]
  },
  {
   "cell_type": "code",
   "execution_count": 285,
   "id": "960f00f2",
   "metadata": {},
   "outputs": [
    {
     "data": {
      "text/html": [
       "<div>\n",
       "<style scoped>\n",
       "    .dataframe tbody tr th:only-of-type {\n",
       "        vertical-align: middle;\n",
       "    }\n",
       "\n",
       "    .dataframe tbody tr th {\n",
       "        vertical-align: top;\n",
       "    }\n",
       "\n",
       "    .dataframe thead th {\n",
       "        text-align: right;\n",
       "    }\n",
       "</style>\n",
       "<table border=\"1\" class=\"dataframe\">\n",
       "  <thead>\n",
       "    <tr style=\"text-align: right;\">\n",
       "      <th></th>\n",
       "      <th>original_title</th>\n",
       "      <th>revenue</th>\n",
       "    </tr>\n",
       "  </thead>\n",
       "  <tbody>\n",
       "    <tr>\n",
       "      <th>66</th>\n",
       "      <td>Avatar</td>\n",
       "      <td>2.847246e+09</td>\n",
       "    </tr>\n",
       "    <tr>\n",
       "      <th>167</th>\n",
       "      <td>Avengers: Endgame</td>\n",
       "      <td>2.797801e+09</td>\n",
       "    </tr>\n",
       "    <tr>\n",
       "      <th>489</th>\n",
       "      <td>Titanic</td>\n",
       "      <td>2.187464e+09</td>\n",
       "    </tr>\n",
       "    <tr>\n",
       "      <th>1013</th>\n",
       "      <td>Star Wars: The Force Awakens</td>\n",
       "      <td>2.068224e+09</td>\n",
       "    </tr>\n",
       "    <tr>\n",
       "      <th>97</th>\n",
       "      <td>Avengers: Infinity War</td>\n",
       "      <td>2.046240e+09</td>\n",
       "    </tr>\n",
       "    <tr>\n",
       "      <th>653</th>\n",
       "      <td>Jurassic World</td>\n",
       "      <td>1.671713e+09</td>\n",
       "    </tr>\n",
       "    <tr>\n",
       "      <th>545</th>\n",
       "      <td>The Lion King</td>\n",
       "      <td>1.667635e+09</td>\n",
       "    </tr>\n",
       "    <tr>\n",
       "      <th>173</th>\n",
       "      <td>The Avengers</td>\n",
       "      <td>1.518816e+09</td>\n",
       "    </tr>\n",
       "    <tr>\n",
       "      <th>590</th>\n",
       "      <td>Furious 7</td>\n",
       "      <td>1.515048e+09</td>\n",
       "    </tr>\n",
       "    <tr>\n",
       "      <th>230</th>\n",
       "      <td>Frozen II</td>\n",
       "      <td>1.450027e+09</td>\n",
       "    </tr>\n",
       "  </tbody>\n",
       "</table>\n",
       "</div>"
      ],
      "text/plain": [
       "                    original_title       revenue\n",
       "66                          Avatar  2.847246e+09\n",
       "167              Avengers: Endgame  2.797801e+09\n",
       "489                        Titanic  2.187464e+09\n",
       "1013  Star Wars: The Force Awakens  2.068224e+09\n",
       "97          Avengers: Infinity War  2.046240e+09\n",
       "653                 Jurassic World  1.671713e+09\n",
       "545                  The Lion King  1.667635e+09\n",
       "173                   The Avengers  1.518816e+09\n",
       "590                      Furious 7  1.515048e+09\n",
       "230                      Frozen II  1.450027e+09"
      ]
     },
     "execution_count": 285,
     "metadata": {},
     "output_type": "execute_result"
    }
   ],
   "source": [
    "revenue_films"
   ]
  },
  {
   "cell_type": "code",
   "execution_count": 297,
   "id": "d6d826a6",
   "metadata": {},
   "outputs": [
    {
     "data": {
      "image/png": "[encoded data removed]",
      "text/plain": [
       "<Figure size 1008x720 with 1 Axes>"
      ]
     },
     "metadata": {},
     "output_type": "display_data"
    }
   ],
   "source": [
    "fid, ax = plt.subplots(figsize = (14,10))\n",
    "explode = [0.2, 0, 0, 0, 0, 0, 0, 0, 0, 0]\n",
    "ax.pie(revenue_films['revenue'], autopct=\"%.1f%%\", explode = explode,shadow = True, labels = revenue_films['original_title'])\n",
    "ax.set_title('The highest-grossing movies in history')\n",
    "plt.show() \n",
    "#Avatar - 2 847 246 203$\n",
    "#Avengers: Endgame - 2 797 501 328$\n",
    "#Titanic - 2 201 647 264$\n",
    "#Star Wars: The Force Awakens -2 069 521 700$\n",
    "#Avengers: Infinity War - 2 048 359 754$\n",
    "#Jurassic World - 1 671 713 208$\n",
    "#The Lion King - 1 656 943 394$\n",
    "#The Avengers - 1 518 812 988$\n",
    "#Furious 7 - 1 516 045 911$\n",
    "#Frozen II - 1 450 026 933$"
   ]
  },
  {
   "cell_type": "code",
   "execution_count": null,
   "id": "521521f8",
   "metadata": {},
   "outputs": [],
   "source": []
  }
 ],
 "metadata": {
  "kernelspec": {
   "display_name": "Python 3",
   "language": "python",
   "name": "python3"
  },
  "language_info": {
   "codemirror_mode": {
    "name": "ipython",
    "version": 3
   },
   "file_extension": ".py",
   "mimetype": "text/x-python",
   "name": "python",
   "nbconvert_exporter": "python",
   "pygments_lexer": "ipython3",
   "version": "3.8.8"
  }
 },
 "nbformat": 4,
 "nbformat_minor": 5
}
